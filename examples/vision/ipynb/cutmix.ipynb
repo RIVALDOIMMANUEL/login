{
  "cells": [
    {
      "cell_type": "markdown",
      "metadata": {
        "id": "kBLjf9-jnc2C"
      },
      "source": [
        "# CutMix data augmentation for image classification\n",
        "\n",
        "**Author:** [Sayan Nath](https://twitter.com/sayannath2350)<br>\n",
        "**Date created:** 2021/06/08<br>\n",
        "**Last modified:** 2023/11/14<br>\n",
        "**Description:** Data augmentation with CutMix for image classification on CIFAR-10."
      ]
    },
    {
      "cell_type": "markdown",
      "metadata": {
        "id": "RVoK7ppYnc2T"
      },
      "source": [
        "## Introduction"
      ]
    },
    {
      "cell_type": "markdown",
      "metadata": {
        "id": "prbvBh62nc2V"
      },
      "source": [
        "_CutMix_ is a data augmentation technique that addresses the issue of information loss\n",
        "and inefficiency present in regional dropout strategies.\n",
        "Instead of removing pixels and filling them with black or grey pixels or Gaussian noise,\n",
        "you replace the removed regions with a patch from another image,\n",
        "while the ground truth labels are mixed proportionally to the number of pixels of combined images.\n",
        "CutMix was proposed in\n",
        "[CutMix: Regularization Strategy to Train Strong Classifiers with Localizable Features](https://arxiv.org/abs/1905.04899)\n",
        "(Yun et al., 2019)\n",
        "\n",
        "It's implemented via the following formulas:\n",
        "\n",
        "<img src=\"https://i.imgur.com/cGvd13V.png\" width=\"200\"/>\n",
        "\n",
        "where `M` is the binary mask which indicates the cutout and the fill-in\n",
        "regions from the two randomly drawn images and `λ` (in `[0, 1]`) is drawn from a\n",
        "[`Beta(α, α)` distribution](https://en.wikipedia.org/wiki/Beta_distribution)\n",
        "\n",
        "The coordinates of bounding boxes are:\n",
        "\n",
        "<img src=\"https://i.imgur.com/eNisep4.png\" width=\"150\"/>\n",
        "\n",
        "which indicates the cutout and fill-in regions in case of the images.\n",
        "The bounding box sampling is represented by:\n",
        "\n",
        "<img src=\"https://i.imgur.com/Snph9aj.png\" width=\"200\"/>\n",
        "\n",
        "where `rx, ry` are randomly drawn from a uniform distribution with upper bound."
      ]
    },
    {
      "cell_type": "markdown",
      "metadata": {
        "id": "NEYrQ2monc2X"
      },
      "source": [
        "## Setup"
      ]
    },
    {
      "cell_type": "code",
      "execution_count": 4,
      "metadata": {
        "id": "cW16FDawnc2Z"
      },
      "outputs": [],
      "source": [
        "import numpy as np\n",
        "import keras\n",
        "import matplotlib.pyplot as plt\n",
        "\n",
        "from keras import layers\n",
        "\n",
        "# TF imports related to tf.data preprocessing\n",
        "from tensorflow import clip_by_value\n",
        "from tensorflow import data as tf_data\n",
        "from tensorflow import image as tf_image\n",
        "from tensorflow import random as tf_random\n",
        "\n",
        "keras.utils.set_random_seed(42)"
      ]
    },
    {
      "cell_type": "markdown",
      "metadata": {
        "id": "Cdtxg_bync2b"
      },
      "source": [
        "## Load the CIFAR-10 dataset\n",
        "\n",
        "In this example, we will use the\n",
        "[CIFAR-10 image classification dataset](https://www.cs.toronto.edu/~kriz/cifar.html)."
      ]
    },
    {
      "cell_type": "code",
      "execution_count": 5,
      "metadata": {
        "id": "dVsYvn9Fnc2d",
        "outputId": "e9c2e1db-d25d-44f4-b0d5-53ff6574af7a",
        "colab": {
          "base_uri": "https://localhost:8080/"
        }
      },
      "outputs": [
        {
          "output_type": "stream",
          "name": "stdout",
          "text": [
            "Downloading data from https://www.cs.toronto.edu/~kriz/cifar-10-python.tar.gz\n",
            "\u001b[1m170498071/170498071\u001b[0m \u001b[32m━━━━━━━━━━━━━━━━━━━━\u001b[0m\u001b[37m\u001b[0m \u001b[1m4s\u001b[0m 0us/step\n",
            "(50000, 32, 32, 3)\n",
            "(50000, 10)\n",
            "(10000, 32, 32, 3)\n",
            "(10000, 10)\n"
          ]
        }
      ],
      "source": [
        "(x_train, y_train), (x_test, y_test) = keras.datasets.cifar10.load_data()\n",
        "y_train = keras.utils.to_categorical(y_train, num_classes=10)\n",
        "y_test = keras.utils.to_categorical(y_test, num_classes=10)\n",
        "\n",
        "print(x_train.shape)\n",
        "print(y_train.shape)\n",
        "print(x_test.shape)\n",
        "print(y_test.shape)\n",
        "\n",
        "class_names = [\n",
        "    \"Airplane\",\n",
        "    \"Automobile\",\n",
        "    \"Bird\",\n",
        "    \"Cat\",\n",
        "    \"Deer\",\n",
        "    \"Dog\",\n",
        "    \"Frog\",\n",
        "    \"Horse\",\n",
        "    \"Ship\",\n",
        "    \"Truck\",\n",
        "]"
      ]
    },
    {
      "cell_type": "markdown",
      "metadata": {
        "id": "ILLeCSG5nc2e"
      },
      "source": [
        "## Define hyperparameters"
      ]
    },
    {
      "cell_type": "code",
      "execution_count": 6,
      "metadata": {
        "id": "qBmQHjb3nc2f"
      },
      "outputs": [],
      "source": [
        "AUTO = tf_data.AUTOTUNE\n",
        "BATCH_SIZE = 32\n",
        "IMG_SIZE = 32"
      ]
    },
    {
      "cell_type": "markdown",
      "metadata": {
        "id": "zDDJU7Sinc2g"
      },
      "source": [
        "## Define the image preprocessing function"
      ]
    },
    {
      "cell_type": "code",
      "execution_count": 7,
      "metadata": {
        "id": "tolDc477nc2h"
      },
      "outputs": [],
      "source": [
        "\n",
        "def preprocess_image(image, label):\n",
        "    image = tf_image.resize(image, (IMG_SIZE, IMG_SIZE))\n",
        "    image = tf_image.convert_image_dtype(image, \"float32\") / 255.0\n",
        "    label = keras.ops.cast(label, dtype=\"float32\")\n",
        "    return image, label\n"
      ]
    },
    {
      "cell_type": "markdown",
      "metadata": {
        "id": "abJ9KQlRnc2i"
      },
      "source": [
        "## Convert the data into TensorFlow `Dataset` objects"
      ]
    },
    {
      "cell_type": "code",
      "execution_count": 8,
      "metadata": {
        "id": "vbT-KXBRnc2j"
      },
      "outputs": [],
      "source": [
        "train_ds_one = (\n",
        "    tf_data.Dataset.from_tensor_slices((x_train, y_train))\n",
        "    .shuffle(1024)\n",
        "    .map(preprocess_image, num_parallel_calls=AUTO)\n",
        ")\n",
        "train_ds_two = (\n",
        "    tf_data.Dataset.from_tensor_slices((x_train, y_train))\n",
        "    .shuffle(1024)\n",
        "    .map(preprocess_image, num_parallel_calls=AUTO)\n",
        ")\n",
        "\n",
        "train_ds_simple = tf_data.Dataset.from_tensor_slices((x_train, y_train))\n",
        "\n",
        "test_ds = tf_data.Dataset.from_tensor_slices((x_test, y_test))\n",
        "\n",
        "train_ds_simple = (\n",
        "    train_ds_simple.map(preprocess_image, num_parallel_calls=AUTO)\n",
        "    .batch(BATCH_SIZE)\n",
        "    .prefetch(AUTO)\n",
        ")\n",
        "\n",
        "# Combine two shuffled datasets from the same training data.\n",
        "train_ds = tf_data.Dataset.zip((train_ds_one, train_ds_two))\n",
        "\n",
        "test_ds = (\n",
        "    test_ds.map(preprocess_image, num_parallel_calls=AUTO)\n",
        "    .batch(BATCH_SIZE)\n",
        "    .prefetch(AUTO)\n",
        ")"
      ]
    },
    {
      "cell_type": "markdown",
      "metadata": {
        "id": "4s3u_m_Wnc2k"
      },
      "source": [
        "## Define the CutMix data augmentation function\n",
        "\n",
        "The CutMix function takes two `image` and `label` pairs to perform the augmentation.\n",
        "It samples `λ(l)` from the [Beta distribution](https://en.wikipedia.org/wiki/Beta_distribution)\n",
        "and returns a bounding box from `get_box` function. We then crop the second image (`image2`)\n",
        "and pad this image in the final padded image at the same location."
      ]
    },
    {
      "cell_type": "code",
      "execution_count": 9,
      "metadata": {
        "id": "jHKO3DcAnc2l"
      },
      "outputs": [],
      "source": [
        "\n",
        "def sample_beta_distribution(size, concentration_0=0.2, concentration_1=0.2):\n",
        "    gamma_1_sample = tf_random.gamma(shape=[size], alpha=concentration_1)\n",
        "    gamma_2_sample = tf_random.gamma(shape=[size], alpha=concentration_0)\n",
        "    return gamma_1_sample / (gamma_1_sample + gamma_2_sample)\n",
        "\n",
        "\n",
        "def get_box(lambda_value):\n",
        "    cut_rat = keras.ops.sqrt(1.0 - lambda_value)\n",
        "\n",
        "    cut_w = IMG_SIZE * cut_rat  # rw\n",
        "    cut_w = keras.ops.cast(cut_w, \"int32\")\n",
        "\n",
        "    cut_h = IMG_SIZE * cut_rat  # rh\n",
        "    cut_h = keras.ops.cast(cut_h, \"int32\")\n",
        "\n",
        "    cut_x = keras.random.uniform((1,), minval=0, maxval=IMG_SIZE)  # rx\n",
        "    cut_x = keras.ops.cast(cut_x, \"int32\")\n",
        "    cut_y = keras.random.uniform((1,), minval=0, maxval=IMG_SIZE)  # ry\n",
        "    cut_y = keras.ops.cast(cut_y, \"int32\")\n",
        "\n",
        "    boundaryx1 = clip_by_value(cut_x[0] - cut_w // 2, 0, IMG_SIZE)\n",
        "    boundaryy1 = clip_by_value(cut_y[0] - cut_h // 2, 0, IMG_SIZE)\n",
        "    bbx2 = clip_by_value(cut_x[0] + cut_w // 2, 0, IMG_SIZE)\n",
        "    bby2 = clip_by_value(cut_y[0] + cut_h // 2, 0, IMG_SIZE)\n",
        "\n",
        "    target_h = bby2 - boundaryy1\n",
        "    if target_h == 0:\n",
        "        target_h += 1\n",
        "\n",
        "    target_w = bbx2 - boundaryx1\n",
        "    if target_w == 0:\n",
        "        target_w += 1\n",
        "\n",
        "    return boundaryx1, boundaryy1, target_h, target_w\n",
        "\n",
        "\n",
        "def cutmix(train_ds_one, train_ds_two):\n",
        "    (image1, label1), (image2, label2) = train_ds_one, train_ds_two\n",
        "\n",
        "    alpha = [0.25]\n",
        "    beta = [0.25]\n",
        "\n",
        "    # Get a sample from the Beta distribution\n",
        "    lambda_value = sample_beta_distribution(1, alpha, beta)\n",
        "\n",
        "    # Define Lambda\n",
        "    lambda_value = lambda_value[0][0]\n",
        "\n",
        "    # Get the bounding box offsets, heights and widths\n",
        "    boundaryx1, boundaryy1, target_h, target_w = get_box(lambda_value)\n",
        "\n",
        "    # Get a patch from the second image (`image2`)\n",
        "    crop2 = tf_image.crop_to_bounding_box(\n",
        "        image2, boundaryy1, boundaryx1, target_h, target_w\n",
        "    )\n",
        "    # Pad the `image2` patch (`crop2`) with the same offset\n",
        "    image2 = tf_image.pad_to_bounding_box(\n",
        "        crop2, boundaryy1, boundaryx1, IMG_SIZE, IMG_SIZE\n",
        "    )\n",
        "    # Get a patch from the first image (`image1`)\n",
        "    crop1 = tf_image.crop_to_bounding_box(\n",
        "        image1, boundaryy1, boundaryx1, target_h, target_w\n",
        "    )\n",
        "    # Pad the `image1` patch (`crop1`) with the same offset\n",
        "    img1 = tf_image.pad_to_bounding_box(\n",
        "        crop1, boundaryy1, boundaryx1, IMG_SIZE, IMG_SIZE\n",
        "    )\n",
        "\n",
        "    # Modify the first image by subtracting the patch from `image1`\n",
        "    # (before applying the `image2` patch)\n",
        "    image1 = image1 - img1\n",
        "    # Add the modified `image1` and `image2`  together to get the CutMix image\n",
        "    image = image1 + image2\n",
        "\n",
        "    # Adjust Lambda in accordance to the pixel ration\n",
        "    lambda_value = 1 - (target_w * target_h) / (IMG_SIZE * IMG_SIZE)\n",
        "    lambda_value = keras.ops.cast(lambda_value, \"float32\")\n",
        "\n",
        "    # Combine the labels of both images\n",
        "    label = lambda_value * label1 + (1 - lambda_value) * label2\n",
        "    return image, label\n"
      ]
    },
    {
      "cell_type": "markdown",
      "metadata": {
        "id": "5gM6sfx4nc2m"
      },
      "source": [
        "**Note**: we are combining two images to create a single one.\n",
        "\n",
        "## Visualize the new dataset after applying the CutMix augmentation"
      ]
    },
    {
      "cell_type": "code",
      "execution_count": 10,
      "metadata": {
        "id": "LCbtMhmpnc2m",
        "outputId": "1fcc85dc-4192-43b3-b372-e23a271594a1",
        "colab": {
          "base_uri": "https://localhost:8080/",
          "height": 829
        }
      },
      "outputs": [
        {
          "output_type": "display_data",
          "data": {
            "text/plain": [
              "<Figure size 1000x1000 with 9 Axes>"
            ],
            "image/png": "[encoded data removed]"
          },
          "metadata": {}
        }
      ],
      "source": [
        "# Create the new dataset using our `cutmix` utility\n",
        "train_ds_cmu = (\n",
        "    train_ds.shuffle(1024)\n",
        "    .map(cutmix, num_parallel_calls=AUTO)\n",
        "    .batch(BATCH_SIZE)\n",
        "    .prefetch(AUTO)\n",
        ")\n",
        "\n",
        "# Let's preview 9 samples from the dataset\n",
        "image_batch, label_batch = next(iter(train_ds_cmu))\n",
        "plt.figure(figsize=(10, 10))\n",
        "for i in range(9):\n",
        "    ax = plt.subplot(3, 3, i + 1)\n",
        "    plt.title(class_names[np.argmax(label_batch[i])])\n",
        "    plt.imshow(image_batch[i])\n",
        "    plt.axis(\"off\")"
      ]
    },
    {
      "cell_type": "markdown",
      "metadata": {
        "id": "MMohIY2Wnc2m"
      },
      "source": [
        "## Define a ResNet-20 model"
      ]
    },
    {
      "cell_type": "code",
      "execution_count": 11,
      "metadata": {
        "id": "61-7uEyZnc2n"
      },
      "outputs": [],
      "source": [
        "\n",
        "def resnet_layer(\n",
        "    inputs,\n",
        "    num_filters=16,\n",
        "    kernel_size=3,\n",
        "    strides=1,\n",
        "    activation=\"relu\",\n",
        "    batch_normalization=True,\n",
        "    conv_first=True,\n",
        "):\n",
        "    conv = layers.Conv2D(\n",
        "        num_filters,\n",
        "        kernel_size=kernel_size,\n",
        "        strides=strides,\n",
        "        padding=\"same\",\n",
        "        kernel_initializer=\"he_normal\",\n",
        "        kernel_regularizer=keras.regularizers.L2(1e-4),\n",
        "    )\n",
        "    x = inputs\n",
        "    if conv_first:\n",
        "        x = conv(x)\n",
        "        if batch_normalization:\n",
        "            x = layers.BatchNormalization()(x)\n",
        "        if activation is not None:\n",
        "            x = layers.Activation(activation)(x)\n",
        "    else:\n",
        "        if batch_normalization:\n",
        "            x = layers.BatchNormalization()(x)\n",
        "        if activation is not None:\n",
        "            x = layers.Activation(activation)(x)\n",
        "        x = conv(x)\n",
        "    return x\n",
        "\n",
        "\n",
        "def resnet_v20(input_shape, depth, num_classes=10):\n",
        "    if (depth - 2) % 6 != 0:\n",
        "        raise ValueError(\"depth should be 6n+2 (eg 20, 32, 44 in [a])\")\n",
        "    # Start model definition.\n",
        "    num_filters = 16\n",
        "    num_res_blocks = int((depth - 2) / 6)\n",
        "\n",
        "    inputs = layers.Input(shape=input_shape)\n",
        "    x = resnet_layer(inputs=inputs)\n",
        "    # Instantiate the stack of residual units\n",
        "    for stack in range(3):\n",
        "        for res_block in range(num_res_blocks):\n",
        "            strides = 1\n",
        "            if stack > 0 and res_block == 0:  # first layer but not first stack\n",
        "                strides = 2  # downsample\n",
        "            y = resnet_layer(inputs=x, num_filters=num_filters, strides=strides)\n",
        "            y = resnet_layer(inputs=y, num_filters=num_filters, activation=None)\n",
        "            if stack > 0 and res_block == 0:  # first layer but not first stack\n",
        "                # linear projection residual shortcut connection to match\n",
        "                # changed dims\n",
        "                x = resnet_layer(\n",
        "                    inputs=x,\n",
        "                    num_filters=num_filters,\n",
        "                    kernel_size=1,\n",
        "                    strides=strides,\n",
        "                    activation=None,\n",
        "                    batch_normalization=False,\n",
        "                )\n",
        "            x = layers.add([x, y])\n",
        "            x = layers.Activation(\"relu\")(x)\n",
        "        num_filters *= 2\n",
        "\n",
        "    # Add classifier on top.\n",
        "    # v1 does not use BN after last shortcut connection-ReLU\n",
        "    x = layers.AveragePooling2D(pool_size=8)(x)\n",
        "    y = layers.Flatten()(x)\n",
        "    outputs = layers.Dense(\n",
        "        num_classes, activation=\"softmax\", kernel_initializer=\"he_normal\"\n",
        "    )(y)\n",
        "\n",
        "    # Instantiate model.\n",
        "    model = keras.Model(inputs=inputs, outputs=outputs)\n",
        "    return model\n",
        "\n",
        "\n",
        "def training_model():\n",
        "    return resnet_v20((32, 32, 3), 20)\n",
        "\n",
        "\n",
        "initial_model = training_model()\n",
        "initial_model.save_weights(\"initial_weights.weights.h5\")"
      ]
    },
    {
      "cell_type": "markdown",
      "metadata": {
        "id": "aUfUQTPCnc2o"
      },
      "source": [
        "## Train the model with the dataset augmented by CutMix"
      ]
    },
    {
      "cell_type": "code",
      "execution_count": 12,
      "metadata": {
        "id": "cB3VuMIpnc2o",
        "outputId": "322ddc61-db5d-4332-f30e-b63d7f1332c5",
        "colab": {
          "base_uri": "https://localhost:8080/"
        }
      },
      "outputs": [
        {
          "output_type": "stream",
          "name": "stdout",
          "text": [
            "Epoch 1/15\n",
            "\u001b[1m1563/1563\u001b[0m \u001b[32m━━━━━━━━━━━━━━━━━━━━\u001b[0m\u001b[37m\u001b[0m \u001b[1m95s\u001b[0m 46ms/step - accuracy: 0.3178 - loss: 2.1736 - val_accuracy: 0.4825 - val_loss: 1.5817\n",
            "Epoch 2/15\n",
            "\u001b[1m1563/1563\u001b[0m \u001b[32m━━━━━━━━━━━━━━━━━━━━\u001b[0m\u001b[37m\u001b[0m \u001b[1m60s\u001b[0m 38ms/step - accuracy: 0.4801 - loss: 1.7571 - val_accuracy: 0.5875 - val_loss: 1.3041\n",
            "Epoch 3/15\n",
            "\u001b[1m1563/1563\u001b[0m \u001b[32m━━━━━━━━━━━━━━━━━━━━\u001b[0m\u001b[37m\u001b[0m \u001b[1m58s\u001b[0m 37ms/step - accuracy: 0.5509 - loss: 1.6176 - val_accuracy: 0.5875 - val_loss: 1.3339\n",
            "Epoch 4/15\n",
            "\u001b[1m1563/1563\u001b[0m \u001b[32m━━━━━━━━━━━━━━━━━━━━\u001b[0m\u001b[37m\u001b[0m \u001b[1m83s\u001b[0m 38ms/step - accuracy: 0.5811 - loss: 1.5452 - val_accuracy: 0.6027 - val_loss: 1.2652\n",
            "Epoch 5/15\n",
            "\u001b[1m1563/1563\u001b[0m \u001b[32m━━━━━━━━━━━━━━━━━━━━\u001b[0m\u001b[37m\u001b[0m \u001b[1m82s\u001b[0m 38ms/step - accuracy: 0.6090 - loss: 1.4888 - val_accuracy: 0.6675 - val_loss: 1.0960\n",
            "Epoch 6/15\n",
            "\u001b[1m1563/1563\u001b[0m \u001b[32m━━━━━━━━━━━━━━━━━━━━\u001b[0m\u001b[37m\u001b[0m \u001b[1m83s\u001b[0m 38ms/step - accuracy: 0.6320 - loss: 1.4460 - val_accuracy: 0.7288 - val_loss: 0.9595\n",
            "Epoch 7/15\n",
            "\u001b[1m1563/1563\u001b[0m \u001b[32m━━━━━━━━━━━━━━━━━━━━\u001b[0m\u001b[37m\u001b[0m \u001b[1m60s\u001b[0m 38ms/step - accuracy: 0.6468 - loss: 1.4155 - val_accuracy: 0.7536 - val_loss: 0.8892\n",
            "Epoch 8/15\n",
            "\u001b[1m1563/1563\u001b[0m \u001b[32m━━━━━━━━━━━━━━━━━━━━\u001b[0m\u001b[37m\u001b[0m \u001b[1m58s\u001b[0m 37ms/step - accuracy: 0.6557 - loss: 1.3933 - val_accuracy: 0.7338 - val_loss: 0.9291\n",
            "Epoch 9/15\n",
            "\u001b[1m1563/1563\u001b[0m \u001b[32m━━━━━━━━━━━━━━━━━━━━\u001b[0m\u001b[37m\u001b[0m \u001b[1m83s\u001b[0m 38ms/step - accuracy: 0.6639 - loss: 1.3755 - val_accuracy: 0.7564 - val_loss: 0.8728\n",
            "Epoch 10/15\n",
            "\u001b[1m1563/1563\u001b[0m \u001b[32m━━━━━━━━━━━━━━━━━━━━\u001b[0m\u001b[37m\u001b[0m \u001b[1m82s\u001b[0m 38ms/step - accuracy: 0.6759 - loss: 1.3582 - val_accuracy: 0.7760 - val_loss: 0.8438\n",
            "Epoch 11/15\n",
            "\u001b[1m1563/1563\u001b[0m \u001b[32m━━━━━━━━━━━━━━━━━━━━\u001b[0m\u001b[37m\u001b[0m \u001b[1m81s\u001b[0m 37ms/step - accuracy: 0.6793 - loss: 1.3490 - val_accuracy: 0.7551 - val_loss: 0.8742\n",
            "Epoch 12/15\n",
            "\u001b[1m1563/1563\u001b[0m \u001b[32m━━━━━━━━━━━━━━━━━━━━\u001b[0m\u001b[37m\u001b[0m \u001b[1m82s\u001b[0m 38ms/step - accuracy: 0.6921 - loss: 1.3256 - val_accuracy: 0.7239 - val_loss: 0.9773\n",
            "Epoch 13/15\n",
            "\u001b[1m1563/1563\u001b[0m \u001b[32m━━━━━━━━━━━━━━━━━━━━\u001b[0m\u001b[37m\u001b[0m \u001b[1m58s\u001b[0m 37ms/step - accuracy: 0.6896 - loss: 1.3215 - val_accuracy: 0.7662 - val_loss: 0.8664\n",
            "Epoch 14/15\n",
            "\u001b[1m1563/1563\u001b[0m \u001b[32m━━━━━━━━━━━━━━━━━━━━\u001b[0m\u001b[37m\u001b[0m \u001b[1m59s\u001b[0m 38ms/step - accuracy: 0.6938 - loss: 1.3151 - val_accuracy: 0.8047 - val_loss: 0.7631\n",
            "Epoch 15/15\n",
            "\u001b[1m1563/1563\u001b[0m \u001b[32m━━━━━━━━━━━━━━━━━━━━\u001b[0m\u001b[37m\u001b[0m \u001b[1m58s\u001b[0m 37ms/step - accuracy: 0.7016 - loss: 1.2996 - val_accuracy: 0.7675 - val_loss: 0.8419\n",
            "\u001b[1m313/313\u001b[0m \u001b[32m━━━━━━━━━━━━━━━━━━━━\u001b[0m\u001b[37m\u001b[0m \u001b[1m2s\u001b[0m 5ms/step - accuracy: 0.7652 - loss: 0.8400\n",
            "Test accuracy: 76.75%\n"
          ]
        }
      ],
      "source": [
        "model = training_model()\n",
        "model.load_weights(\"initial_weights.weights.h5\")\n",
        "\n",
        "model.compile(loss=\"categorical_crossentropy\", optimizer=\"adam\", metrics=[\"accuracy\"])\n",
        "model.fit(train_ds_cmu, validation_data=test_ds, epochs=15)\n",
        "\n",
        "test_loss, test_accuracy = model.evaluate(test_ds)\n",
        "print(\"Test accuracy: {:.2f}%\".format(test_accuracy * 100))"
      ]
    },
    {
      "cell_type": "markdown",
      "metadata": {
        "id": "jD2U952Pnc2o"
      },
      "source": [
        "## Train the model using the original non-augmented dataset"
      ]
    },
    {
      "cell_type": "code",
      "execution_count": 13,
      "metadata": {
        "id": "6M_lGSXEnc2p",
        "outputId": "89955d43-eb99-4a9c-b570-a63f0e4a6335",
        "colab": {
          "base_uri": "https://localhost:8080/"
        }
      },
      "outputs": [
        {
          "output_type": "stream",
          "name": "stdout",
          "text": [
            "Epoch 1/15\n",
            "\u001b[1m1563/1563\u001b[0m \u001b[32m━━━━━━━━━━━━━━━━━━━━\u001b[0m\u001b[37m\u001b[0m \u001b[1m44s\u001b[0m 17ms/step - accuracy: 0.4024 - loss: 1.8543 - val_accuracy: 0.5702 - val_loss: 1.3461\n",
            "Epoch 2/15\n",
            "\u001b[1m1563/1563\u001b[0m \u001b[32m━━━━━━━━━━━━━━━━━━━━\u001b[0m\u001b[37m\u001b[0m \u001b[1m18s\u001b[0m 11ms/step - accuracy: 0.6307 - loss: 1.1853 - val_accuracy: 0.6631 - val_loss: 1.1100\n",
            "Epoch 3/15\n",
            "\u001b[1m1563/1563\u001b[0m \u001b[32m━━━━━━━━━━━━━━━━━━━━\u001b[0m\u001b[37m\u001b[0m \u001b[1m19s\u001b[0m 10ms/step - accuracy: 0.7124 - loss: 0.9729 - val_accuracy: 0.7046 - val_loss: 1.0249\n",
            "Epoch 4/15\n",
            "\u001b[1m1563/1563\u001b[0m \u001b[32m━━━━━━━━━━━━━━━━━━━━\u001b[0m\u001b[37m\u001b[0m \u001b[1m20s\u001b[0m 10ms/step - accuracy: 0.7581 - loss: 0.8521 - val_accuracy: 0.7033 - val_loss: 1.0342\n",
            "Epoch 5/15\n",
            "\u001b[1m1563/1563\u001b[0m \u001b[32m━━━━━━━━━━━━━━━━━━━━\u001b[0m\u001b[37m\u001b[0m \u001b[1m16s\u001b[0m 10ms/step - accuracy: 0.7953 - loss: 0.7652 - val_accuracy: 0.6848 - val_loss: 1.1482\n",
            "Epoch 6/15\n",
            "\u001b[1m1563/1563\u001b[0m \u001b[32m━━━━━━━━━━━━━━━━━━━━\u001b[0m\u001b[37m\u001b[0m \u001b[1m16s\u001b[0m 10ms/step - accuracy: 0.8221 - loss: 0.6992 - val_accuracy: 0.6617 - val_loss: 1.3237\n",
            "Epoch 7/15\n",
            "\u001b[1m1563/1563\u001b[0m \u001b[32m━━━━━━━━━━━━━━━━━━━━\u001b[0m\u001b[37m\u001b[0m \u001b[1m21s\u001b[0m 11ms/step - accuracy: 0.8412 - loss: 0.6444 - val_accuracy: 0.6501 - val_loss: 1.4774\n",
            "Epoch 8/15\n",
            "\u001b[1m1563/1563\u001b[0m \u001b[32m━━━━━━━━━━━━━━━━━━━━\u001b[0m\u001b[37m\u001b[0m \u001b[1m21s\u001b[0m 11ms/step - accuracy: 0.8610 - loss: 0.6009 - val_accuracy: 0.6713 - val_loss: 1.4943\n",
            "Epoch 9/15\n",
            "\u001b[1m1563/1563\u001b[0m \u001b[32m━━━━━━━━━━━━━━━━━━━━\u001b[0m\u001b[37m\u001b[0m \u001b[1m20s\u001b[0m 10ms/step - accuracy: 0.8750 - loss: 0.5715 - val_accuracy: 0.6662 - val_loss: 1.4771\n",
            "Epoch 10/15\n",
            "\u001b[1m1563/1563\u001b[0m \u001b[32m━━━━━━━━━━━━━━━━━━━━\u001b[0m\u001b[37m\u001b[0m \u001b[1m17s\u001b[0m 11ms/step - accuracy: 0.8864 - loss: 0.5451 - val_accuracy: 0.6445 - val_loss: 1.8508\n",
            "Epoch 11/15\n",
            "\u001b[1m1563/1563\u001b[0m \u001b[32m━━━━━━━━━━━━━━━━━━━━\u001b[0m\u001b[37m\u001b[0m \u001b[1m20s\u001b[0m 11ms/step - accuracy: 0.8986 - loss: 0.5205 - val_accuracy: 0.6413 - val_loss: 1.8225\n",
            "Epoch 12/15\n",
            "\u001b[1m1563/1563\u001b[0m \u001b[32m━━━━━━━━━━━━━━━━━━━━\u001b[0m\u001b[37m\u001b[0m \u001b[1m20s\u001b[0m 11ms/step - accuracy: 0.9032 - loss: 0.5130 - val_accuracy: 0.6644 - val_loss: 1.6392\n",
            "Epoch 13/15\n",
            "\u001b[1m1563/1563\u001b[0m \u001b[32m━━━━━━━━━━━━━━━━━━━━\u001b[0m\u001b[37m\u001b[0m \u001b[1m16s\u001b[0m 10ms/step - accuracy: 0.9096 - loss: 0.5015 - val_accuracy: 0.7365 - val_loss: 1.3494\n",
            "Epoch 14/15\n",
            "\u001b[1m1563/1563\u001b[0m \u001b[32m━━━━━━━━━━━━━━━━━━━━\u001b[0m\u001b[37m\u001b[0m \u001b[1m21s\u001b[0m 11ms/step - accuracy: 0.9174 - loss: 0.4895 - val_accuracy: 0.6946 - val_loss: 1.7033\n",
            "Epoch 15/15\n",
            "\u001b[1m1563/1563\u001b[0m \u001b[32m━━━━━━━━━━━━━━━━━━━━\u001b[0m\u001b[37m\u001b[0m \u001b[1m21s\u001b[0m 11ms/step - accuracy: 0.9217 - loss: 0.4835 - val_accuracy: 0.7133 - val_loss: 1.5254\n",
            "\u001b[1m313/313\u001b[0m \u001b[32m━━━━━━━━━━━━━━━━━━━━\u001b[0m\u001b[37m\u001b[0m \u001b[1m1s\u001b[0m 3ms/step - accuracy: 0.7081 - loss: 1.5324\n",
            "Test accuracy: 71.33%\n"
          ]
        }
      ],
      "source": [
        "model = training_model()\n",
        "model.load_weights(\"initial_weights.weights.h5\")\n",
        "model.compile(loss=\"categorical_crossentropy\", optimizer=\"adam\", metrics=[\"accuracy\"])\n",
        "model.fit(train_ds_simple, validation_data=test_ds, epochs=15)\n",
        "\n",
        "test_loss, test_accuracy = model.evaluate(test_ds)\n",
        "print(\"Test accuracy: {:.2f}%\".format(test_accuracy * 100))"
      ]
    },
    {
      "cell_type": "markdown",
      "metadata": {
        "id": "1lpyNbSWnc2p"
      },
      "source": [
        "## Notes\n",
        "\n",
        "In this example, we trained our model for 15 epochs.\n",
        "In our experiment, the model with CutMix achieves a better accuracy on the CIFAR-10 dataset\n",
        "(77.34% in our experiment) compared to the model that doesn't use the augmentation (66.90%).\n",
        "You may notice it takes less time to train the model with the CutMix augmentation.\n",
        "\n",
        "You can experiment further with the CutMix technique by following the\n",
        "[original paper](https://arxiv.org/abs/1905.04899)."
      ]
    }
  ],
  "metadata": {
    "accelerator": "GPU",
    "colab": {
      "name": "cutmix",
      "provenance": []
    },
    "kernelspec": {
      "display_name": "Python 3",
      "language": "python",
      "name": "python3"
    },
    "language_info": {
      "codemirror_mode": {
        "name": "ipython",
        "version": 3
      },
      "file_extension": ".py",
      "mimetype": "text/x-python",
      "name": "python",
      "nbconvert_exporter": "python",
      "pygments_lexer": "ipython3",
      "version": "3.7.0"
    }
  },
  "nbformat": 4,
  "nbformat_minor": 0
}